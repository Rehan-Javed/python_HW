{
 "cells": [
  {
   "cell_type": "markdown",
   "metadata": {},
   "source": [
    "#### Remaining are Q6\n",
    "\n",
    "#### numpy and Pandas Q12."
   ]
  },
  {
   "cell_type": "markdown",
   "metadata": {},
   "source": [
    "![green-divider](https://user-images.githubusercontent.com/7065401/52071924-c003ad80-2562-11e9-8297-1c6595f8a7ff.png)"
   ]
  },
  {
   "cell_type": "markdown",
   "metadata": {},
   "source": [
    "#### Q1: Compute Product of two non-negative numbers without arithmetic operator. You are only allowed to use: bitwise operators <<, >>, |, &, ~, ^.\n"
   ]
  },
  {
   "cell_type": "code",
   "execution_count": 14,
   "metadata": {},
   "outputs": [
    {
     "name": "stdout",
     "output_type": "stream",
     "text": [
      "The product of 10 and 14 is 140\n"
     ]
    }
   ],
   "source": [
    "#Question1\n",
    "def multiply_bitwise(multiplicand,multiplier):\n",
    "    # convert the multiplier into binary number\n",
    "    multiplier_binary =  bin(multiplier)\n",
    "    # make an empty list called binary\n",
    "    binary = []\n",
    "\n",
    "    # put the binary numbers into list\n",
    "    for j in range(2,len(multiplier_binary)):\n",
    "        binary.append(multiplier_binary[j])\n",
    "\n",
    "    #reversing the list becasue binary start multiplying from right, but looping starts from left\n",
    "    binary.reverse()\n",
    "\n",
    "    answer = 0\n",
    "    final = 0\n",
    "\n",
    "    # finding the 1s in the binary list and shifting the multiplicand according to its position in binary\n",
    "    # which is the same as the count of i\n",
    "    for i in range(0,len(binary)):\n",
    "        if binary[i] == '1':\n",
    "            answer = multiplicand<<i\n",
    "            final += answer\n",
    "\n",
    "    print(\"The product of \" + str(multiplicand) + \" and \" + str(multiplier) + \" is \" + str(final))\n",
    "\n",
    "\n",
    "\n",
    "multiply_bitwise(10,14)\n"
   ]
  },
  {
   "cell_type": "markdown",
   "metadata": {},
   "source": [
    "![green-divider](https://user-images.githubusercontent.com/7065401/52071924-c003ad80-2562-11e9-8297-1c6595f8a7ff.png)"
   ]
  },
  {
   "cell_type": "markdown",
   "metadata": {},
   "source": [
    "#### Q2: Given a string check if its characters can be permuted into a palindrome, a palindrome is word that is the same forward and backward, for example “aabaa”\n"
   ]
  },
  {
   "cell_type": "code",
   "execution_count": 198,
   "metadata": {},
   "outputs": [
    {
     "name": "stdin",
     "output_type": "stream",
     "text": [
      "Input the word:   babaaa\n"
     ]
    },
    {
     "name": "stdout",
     "output_type": "stream",
     "text": [
      "The alphabets are ['a', 'b']\n",
      "the count of them is [4, 2]\n",
      "Number of odd values are\n",
      "[]\n",
      "Number of even values are\n",
      "[4, 2]\n",
      "It is a palindrome\n"
     ]
    }
   ],
   "source": [
    "string = input(\"Input the word:  \")\n",
    "\n",
    "#convert string to a set in the list\n",
    "set = list(set(string))\n",
    "\n",
    "#sorting the set of alphabets\n",
    "set.sort()\n",
    "\n",
    "# counting the occurances of alphabets\n",
    "item_count = []\n",
    "for i in range(0, len(set)):\n",
    "\tcurrent_item_count = string.count(set[i])\n",
    "\titem_count.append(current_item_count)\n",
    "\n",
    "print(\"The alphabets are \" + str(set))\n",
    "print(\"the count of them is \" + str(item_count))\n",
    "\n",
    "evens = []\n",
    "odds = []\n",
    "\n",
    "# putting even and odd counts of alphabets in separate lists\n",
    "for i in range(0,len(item_count)):\n",
    "    if item_count[i]%2 == 0:\n",
    "        evens.append(item_count[i])\n",
    "    else:\n",
    "        odds.append(item_count[i])\n",
    "\n",
    "print(\"Number of odd values are\")\n",
    "print(odds)\n",
    "\n",
    "print(\"Number of even values are\")\n",
    "print(evens)\n",
    "\n",
    "# to be palindrome, all alphabets should occur even number of times\n",
    "# or odd number of times plus 1 odd number of time\n",
    "if len(odds) == 0 or len(odds) == 1:\n",
    "    print(\"It is a palindrome\")\n",
    "else:\n",
    "    print(\"it is not a palindrome\")\n"
   ]
  },
  {
   "cell_type": "markdown",
   "metadata": {},
   "source": [
    "![green-divider](https://user-images.githubusercontent.com/7065401/52071924-c003ad80-2562-11e9-8297-1c6595f8a7ff.png)"
   ]
  },
  {
   "cell_type": "markdown",
   "metadata": {},
   "source": [
    "#### Q3: Write a function to partition a list around a given value x, such that all numbers smaller than x comes before x and all numbers greater than x comes after x.  Ex. [ 3, 5, 1, 10, 4, 6, 9], x = 5 ==> [3, 1, 4, 5, 6, 9, 10]\n"
   ]
  },
  {
   "cell_type": "code",
   "execution_count": 1,
   "metadata": {},
   "outputs": [
    {
     "name": "stdout",
     "output_type": "stream",
     "text": [
      "[1, 2, 4]\n",
      "[5]\n",
      "[9, 7, 7, 9]\n",
      "[1, 2, 4, 5, 9, 7, 7, 9]\n"
     ]
    }
   ],
   "source": [
    "my_list = [8,9,7,1,2,5,4,7,9]\n",
    "x = 5\n",
    "\n",
    "\n",
    "smaller_list = []\n",
    "x_list = []\n",
    "larger_list = []\n",
    "\n",
    "for i in range(1,len(my_list)):\n",
    "    if x > my_list[i]:\n",
    "        smaller_list.append(my_list[i])\n",
    "    elif x == my_list[i]:\n",
    "        x_list.append(my_list[i])\n",
    "    elif x < my_list[i]:\n",
    "        larger_list.append(my_list[i])\n",
    "final = smaller_list + x_list + larger_list\n",
    "print(smaller_list)\n",
    "print(x_list)\n",
    "print(larger_list)\n",
    "print(final)\n",
    "\n"
   ]
  },
  {
   "cell_type": "markdown",
   "metadata": {},
   "source": [
    "![green-divider](https://user-images.githubusercontent.com/7065401/52071924-c003ad80-2562-11e9-8297-1c6595f8a7ff.png)"
   ]
  },
  {
   "cell_type": "markdown",
   "metadata": {},
   "source": [
    "#### Q4: Convert a real number between 0 and 1 to a binary string, if you can’t represent the number in at most 32 characters print “ERROR”\n"
   ]
  },
  {
   "cell_type": "code",
   "execution_count": null,
   "metadata": {},
   "outputs": [],
   "source": [
    "\n",
    "o = float(input(\"Type a number between 1 to 0: \"))\n",
    "def Binary(o):\n",
    "\tif (o >= 1 or o <= 0):\n",
    "    \treturn \"I asked for number between 1 to 0, try again!\"\n",
    "\tstring = \".\"   \n",
    "\twhile (o > 0):\n",
    "    \tif(len(string) >= 32):\n",
    "        \treturn \"ERROR\"\n",
    "\n",
    "    \tb = o * 2\n",
    "    \tif (b >= 1):\n",
    "\n",
    "        \tstring = string + \"1\"\n",
    "        \to = b -1\n",
    "    \telse:\n",
    "        \tstring = string + \"0\"\n",
    "        \to = b\n",
    "\treturn string\n",
    "answer = Binary(o)\n",
    "if answer == \"ERROR\":\n",
    "\tprint(\"ERROR\")\n",
    "elif answer == \"I asked for number between 1 to 0, try again!\":\n",
    "\tprint(\"I asked for number between 1 to 0, try again!\")\n",
    "else:\n",
    "\tprint(\"0\"+ answer)\n"
   ]
  },
  {
   "cell_type": "markdown",
   "metadata": {},
   "source": [
    "![green-divider](https://user-images.githubusercontent.com/7065401/52071924-c003ad80-2562-11e9-8297-1c6595f8a7ff.png)"
   ]
  },
  {
   "cell_type": "markdown",
   "metadata": {},
   "source": [
    "#### Q5: Write a method that returns all subset of a set of numbers, don’t use builtin functions.\n"
   ]
  },
  {
   "cell_type": "code",
   "execution_count": null,
   "metadata": {},
   "outputs": [],
   "source": [
    "\n",
    "request = list(input(\"Hello, please give me more than one denary type numbers: \"))\n",
    "\n",
    "def sub_func (a):\n",
    "\tsets = []\n",
    "\tlists = [sets]\n",
    "\tfor i in range(len(a)):\n",
    "    \tx = lists[:]\n",
    "    \ty = a[i]\n",
    "    \tif y == \" \":\n",
    "        \tk = y.split(\" \")\n",
    "    \telse:\n",
    "        \tfor b in range(len(lists)):\n",
    "            \tlists[b] = lists[b] + [y]\n",
    "        \tlists = x + lists\n",
    "   \t \n",
    "\treturn lists\n",
    "    \n",
    "print(sub_func(request))\n"
   ]
  },
  {
   "cell_type": "markdown",
   "metadata": {},
   "source": [
    "![green-divider](https://user-images.githubusercontent.com/7065401/52071924-c003ad80-2562-11e9-8297-1c6595f8a7ff.png)"
   ]
  },
  {
   "cell_type": "markdown",
   "metadata": {},
   "source": [
    "#### Q6: A magic index in an array A is an index x such that A[x] = x, \n",
    "#### given a SORTED array A find a magic index.\n"
   ]
  },
  {
   "cell_type": "code",
   "execution_count": 4,
   "metadata": {},
   "outputs": [
    {
     "name": "stdout",
     "output_type": "stream",
     "text": [
      "magic index is 4\n"
     ]
    }
   ],
   "source": [
    "# This is the answer\n",
    "import numpy as np\n",
    "\n",
    "random_list = [-1,0,1,2,4,9]\n",
    "\n",
    "for i in range(0,len(random_list)):\n",
    "    \n",
    "    if random_list[i] == i:\n",
    "        print(\"magic index is \" + str(random_list[i]))\n",
    "        \n",
    "    \n"
   ]
  },
  {
   "cell_type": "code",
   "execution_count": 3,
   "metadata": {},
   "outputs": [
    {
     "name": "stdout",
     "output_type": "stream",
     "text": [
      "magic index is 4\n"
     ]
    }
   ],
   "source": [
    "## basic initial code\n",
    "import numpy as np\n",
    "\n",
    "random_list = [-1,0,1,2,4,9]\n",
    "magic_array = np.arange(len(random_list) + 1)\n",
    "\n",
    "for i in range(0,len(random_list)):\n",
    "    \n",
    "    if random_list[i] == magic_array[i]:\n",
    "        print(\"magic index is \" + str(random_list[i]))\n",
    "        \n",
    "    elif random_list[i] != magic_array[i]:\n",
    "        continue\n",
    "\n",
    "\n"
   ]
  },
  {
   "cell_type": "markdown",
   "metadata": {},
   "source": [
    "![green-divider](https://user-images.githubusercontent.com/7065401/52071924-c003ad80-2562-11e9-8297-1c6595f8a7ff.png)"
   ]
  },
  {
   "cell_type": "markdown",
   "metadata": {},
   "source": [
    "#### Q7: Given two sorted arrays  A and B, merge into a single array: A[3, 7, 10], B=[1, 2, 4, 5, 6, 9, 11] ==> [1,2,3,5,6,7,9,10,11]\n"
   ]
  },
  {
   "cell_type": "code",
   "execution_count": 11,
   "metadata": {},
   "outputs": [
    {
     "name": "stdout",
     "output_type": "stream",
     "text": [
      "[ 1  2  3  5  6  6  7  8  9 10]\n"
     ]
    }
   ],
   "source": [
    "import numpy as np\n",
    "arr_a = np.array((1, 3, 2, 5, 6))\n",
    "arr_b = np.array((7, 6, 8, 9, 10))\n",
    "\n",
    "arr_c = np.concatenate((arr_a, arr_b), axis =0)\n",
    "print(np.sort(arr_c))\n",
    "\n",
    "\n"
   ]
  },
  {
   "cell_type": "code",
   "execution_count": null,
   "metadata": {},
   "outputs": [],
   "source": []
  },
  {
   "cell_type": "markdown",
   "metadata": {},
   "source": [
    "![green-divider](https://user-images.githubusercontent.com/7065401/52071924-c003ad80-2562-11e9-8297-1c6595f8a7ff.png)"
   ]
  },
  {
   "cell_type": "markdown",
   "metadata": {},
   "source": [
    "#### Q8: Schedule Tasks to minimise the waiting time. Given a list of service time for tasks, find the best scheduling to minimise the waiting time. For example given service time [2, 5, 1, 3], if we schedule them in the given order the waiting time = 0 + (2) + (2 +5) + (2 +5 +1) = 17, if we schedule them in order of decreasing service, the waiting time = 0 + (5) + (5+3) + (5+3 +2) = 23. The best scheduling in this case is [1, 2, 3, 5]\n"
   ]
  },
  {
   "cell_type": "code",
   "execution_count": 13,
   "metadata": {},
   "outputs": [
    {
     "name": "stdout",
     "output_type": "stream",
     "text": [
      "[1, 2, 3, 5]\n"
     ]
    }
   ],
   "source": [
    "waiting_time = [5,2,3,1]\n",
    "waiting_time.sort()\n",
    "print(waiting_time)\n"
   ]
  },
  {
   "cell_type": "code",
   "execution_count": null,
   "metadata": {},
   "outputs": [],
   "source": []
  },
  {
   "cell_type": "markdown",
   "metadata": {},
   "source": [
    "![green-divider](https://user-images.githubusercontent.com/7065401/52071924-c003ad80-2562-11e9-8297-1c6595f8a7ff.png)"
   ]
  },
  {
   "cell_type": "markdown",
   "metadata": {},
   "source": [
    "#### Q9: Write function integers_in_brackets that finds from a given string all integers that are enclosed in brackets. ",
    "Example run: integers_in_brackets(\"  afd [asd] [12 ] [a34]  [ -43 ]tt [+12]xxx\") returns [12, -43, 12]. So there can be whitespace between the number and the brackets, but no other character besides those that make up the integer. Use regular expressions to do this. ",
    "\n"
   ]
  },
  {
   "cell_type": "code",
   "execution_count": 19,
   "metadata": {},
   "outputs": [
    {
     "name": "stdin",
     "output_type": "stream",
     "text": [
      "Please provide inputs:  (\" afd [asd] [12 ] [a34] [ -43 ]tt [+12]xxx\")\n"
     ]
    },
    {
     "name": "stdout",
     "output_type": "stream",
     "text": [
      "[12, -43, 12]\n"
     ]
    }
   ],
   "source": [
    "import re\n",
    "\n",
    "getInput = input(\"Please provide inputs: \")\n",
    "grab = getInput\n",
    "\n",
    "conditions = r\"(?:\\[(\\s*?[-+]?\\d+\\s*?)\\])\"\n",
    "                                                                                            \t \n",
    "answer = list(map(eval, re.findall(conditions, grab)))\n",
    "\n",
    "print(answer)\n",
    "\n",
    "# Receive input\n",
    "# Save input as another variable\n",
    "# Create Regex and have it saved as variable, to clean up code\n",
    "# Condition variable include:\n",
    "# Non-capturing group to capture string within group\n",
    "# Greedy match - capture more one string, good for more than 1 digit integer and so on\n",
    "# Using \\ for [ and ] allow them not to be escaped\n",
    "# After that, we create answer that include our condition and user input variable\n",
    "# we also made sure to use list, map and eval for this to convert to list, make it iterable and execute expression\n",
    "# Finally, we print our answer\n"
   ]
  },
  {
   "cell_type": "markdown",
   "metadata": {},
   "source": [
    "![green-divider](https://user-images.githubusercontent.com/7065401/52071924-c003ad80-2562-11e9-8297-1c6595f8a7ff.png)"
   ]
  },
  {
   "cell_type": "markdown",
   "metadata": {},
   "source": [
    "\n",
    "#### Q10: Create a function called summary that gets a list of filenames as a parameter. \n",
    "\n",
    "#### The input files should contain a floating point number on each line of the file. Make your function read these numbers and then return a triple containing the sum, average, and standard deviation of these numbers for the file. \n",
    "\n",
    "https://en.wikipedia.org/wiki/Standard_deviation#Sample_standard_deviation_of_metabolic_rate_of_northern_fulmars \n",
    "\n",
    "#### The main function should call the function summary for each filename in the list sys.argv[1:] of command line parameters. (Skip sys.argv[0] since it contains the name of the current program.)\n",
    "\n",
    "##### Example of usage from the command line: python3 src/summary.py src/example.txt src/example2.txt\n",
    "##### Print floating point numbers using six decimals precision. The output should look like this:\n",
    "##### File: src/example.txt Sum: 51.400000 Average: 10.280000 Stddev: 8.904606\n",
    "##### File: src/example2.txt Sum: 5446.200000 Average: 1815.400000 Stddev: 3124.294045\n",
    "\n"
   ]
  },
  {
   "cell_type": "code",
   "execution_count": null,
   "metadata": {},
   "outputs": [],
   "source": [
    "# the answer to part 1 is here:-\n",
    "\n",
    "\n",
    "# link for help https://www.tutorialspoint.com/python/python_command_line_arguments.htm\n",
    "#print( 'Number of arguments:', len(sys.argv), 'arguments.')\n",
    "#print( 'Argument List:', str(sys.argv))\n",
    "\n",
    "\n",
    "import sys\n",
    "\n",
    "from math import sqrt\n",
    "\n",
    "def summary(text_file):\n",
    "\n",
    "## iterating over the arguments of command line inputs given by user to open files\n",
    "## the argument itself is sys.argv and range from 1 as according to format; first argument in\n",
    "## command prompt is the name of file\n",
    "\n",
    "    for i in range(1,len(sys.argv)):\n",
    "\n",
    "        # open the text file name as read only\n",
    "        text_file = open(sys.argv[i], \"r\")\n",
    "\n",
    "        # create variable lines from the content of the lines of text file\n",
    "        lines = text_file.readlines()\n",
    "\n",
    "        # creating the integars \n",
    "        for t in range(len(lines)):\n",
    "            lines[t] = int(lines[t])\n",
    "\n",
    "        # sum and average    \n",
    "        file_sum = sum(lines)\n",
    "        file_average = file_sum / len(lines)\n",
    "\n",
    "        # Standard deviation\n",
    "        SUMM = 0\n",
    "        for j in lines:\n",
    "            SUMM += (j - file_average) ** 2\n",
    "\n",
    "        stdev = sqrt(SUMM / (len(lines) - 1))\n",
    "\n",
    "        # printing the outpur\n",
    "        print(\"File: \" + str(sys.argv[i]) + \" Sum: \" + str(file_sum) + \" Average: \" + str(file_average) + \" Stddev: \"+ str(stdev))\n",
    "\n",
    "summary(\"text_file\")\n",
    "\n",
    "\n"
   ]
  },
  {
   "cell_type": "markdown",
   "metadata": {},
   "source": [
    "#### Part 2.\n",
    "#### If some line doesn’t represent a number, you can just ignore that line. \n",
    "#### You can achieve this with the try-except block. \n",
    "####  An example of recovering from an exceptional situation:\n",
    "\n",
    "#### try: \n",
    "##### x = float(line)           # The float constructor raises ValueError exception if conversion is no possible\n",
    "##### except ValueError:\n",
    "##### # Statements in here are executed when the above conversion fails\n"
   ]
  },
  {
   "cell_type": "code",
   "execution_count": null,
   "metadata": {},
   "outputs": [],
   "source": [
    "\n",
    "import sys\n",
    "\n",
    "from math import sqrt\n",
    "\n",
    "def summary(text_file):\n",
    "\n",
    "## iterating over the arguments of command line inputs given by user to open files\n",
    "## the argument itself is sys.argv and range from 1 as according to format; first argument in\n",
    "## command prompt is the name of file\n",
    "\n",
    "    for i in range(1,len(sys.argv)):\n",
    "\n",
    "        text_file = open(sys.argv[i], \"r\")\n",
    "\n",
    "        lines = text_file.readlines()\n",
    "        # defining a list where only floats will go    \n",
    "        list_floats = []\n",
    "\n",
    "        # looping over the range of lines, and putting only floats in list_floats\n",
    "        # if it is not float, except will pass and the loop will go to next value of list 'lines'\n",
    "        \n",
    "        for t in range(len(lines)):\n",
    "\n",
    "            try:\n",
    "               lines[t] = float(lines[t])\n",
    "               list_floats.append(lines[t])\n",
    "\n",
    "            except ValueError:\n",
    "                pass\n",
    "\n",
    "        # sum and average    \n",
    "\n",
    "        file_sum = sum(list_floats)\n",
    "        file_average = file_sum / len(list_floats)\n",
    "\n",
    "        # Standard deviation\n",
    "\n",
    "        SUMM = 0\n",
    "        for j in list_floats:\n",
    "            SUMM += (j - file_average) ** 2\n",
    "\n",
    "        stdev = sqrt(SUMM / (len(list_floats) - 1))\n",
    "\n",
    "        print(\"File: \" + str(sys.argv[i]) + \" Sum: \" + str(file_sum) + \" Average: \" + str(file_average) + \" Stddev: \"+ str(stdev))\n",
    "\n",
    "summary(\"text_file\")\n",
    "\n"
   ]
  },
  {
   "cell_type": "code",
   "execution_count": null,
   "metadata": {},
   "outputs": [],
   "source": []
  },
  {
   "cell_type": "markdown",
   "metadata": {},
   "source": [
    "![green-divider](https://user-images.githubusercontent.com/7065401/52071924-c003ad80-2562-11e9-8297-1c6595f8a7ff.png)"
   ]
  },
  {
   "cell_type": "markdown",
   "metadata": {},
   "source": [
    "#### Q11: Write a function extract_numbers that gets a string as a parameter. It should return a list of numbers that can be both ints and floats. \n",
    "\n",
    "#### Split the string to words at whitespace using the split() method. Then iterate through each word, and initially try to convert to an int. If unsuccesful, then try to convert to a float. If not a number then skip the word.\n",
    "\n",
    "\tExample run: print(extract_numbers(\"abd 123 1.2 test 13.2 -1\")) will return [123, 1.2, 13.2, -1]\n",
    "\n"
   ]
  },
  {
   "cell_type": "code",
   "execution_count": 44,
   "metadata": {},
   "outputs": [
    {
     "name": "stdout",
     "output_type": "stream",
     "text": [
      "the original list was ['abd', 123.0, 1.2, 'test', 13.2, -1.0]\n",
      "\n",
      "Only numbers list is [123.0, 1.2, 13.2, -1.0]\n"
     ]
    }
   ],
   "source": [
    "\n",
    "mystring = \" abd 123 1.2 test 13.2 -1\"\n",
    "sss = mystring.split()\n",
    "blist = []\n",
    "\n",
    "\n",
    "for i in range(len(sss)):\n",
    "    try:\n",
    "        sss[i] = float(sss[i])\n",
    "        blist.append(sss[i])\n",
    "        \n",
    "        if type(sss[i]) != float:\n",
    "            sss[i] = int(sss[i])\n",
    "            blist.append(sss[i])\n",
    "\n",
    "    except ValueError:\n",
    "        pass\n",
    "    \n",
    "        \n",
    "print('the original list was ' + str(sss))\n",
    "print()\n",
    "print('Only numbers list is ' + str(blist))\n",
    "\n",
    "\n",
    "        "
   ]
  },
  {
   "cell_type": "code",
   "execution_count": null,
   "metadata": {},
   "outputs": [],
   "source": []
  },
  {
   "cell_type": "code",
   "execution_count": null,
   "metadata": {},
   "outputs": [],
   "source": []
  },
  {
   "cell_type": "markdown",
   "metadata": {},
   "source": [
    "![green-divider](https://user-images.githubusercontent.com/7065401/52071924-c003ad80-2562-11e9-8297-1c6595f8a7ff.png)"
   ]
  },
  {
   "cell_type": "markdown",
   "metadata": {},
   "source": [
    "## Numpy and Pandas Section"
   ]
  },
  {
   "cell_type": "markdown",
   "metadata": {},
   "source": [
    "#### Q12: Write function vector_lengths that gets a two dimensional array of shape (n,m) as a parameter. \n",
    "\n",
    "##### Each row in this array corresponds to a vector. \n",
    "##### The function should return an array of shape (n,), that has the length of each vector in the input. \n",
    "\n",
    "##### The length is defined by the usual Euclidean norm. \n",
    "\n",
    "##### Don’t use loops at all in your solution. Instead use vectorized operations. \n",
    "##### You must use at least the np.sum and the np.sqrt functions. \n",
    "\n",
    "##### You can’t use the function scipy.linalg.norm. Test your function in the main function.\n"
   ]
  },
  {
   "cell_type": "code",
   "execution_count": 20,
   "metadata": {},
   "outputs": [
    {
     "name": "stdout",
     "output_type": "stream",
     "text": [
      "sum of the squares of each row is\n",
      "[ 30 255 730]\n",
      "the Euclidean norm is\n",
      "[ 5.47722558 15.96871942 27.01851217]\n"
     ]
    }
   ],
   "source": [
    "def euclidean_norm(all_numb,rows,columns):\n",
    "    np_array_2d = np.arange(all_numb).reshape([rows,columns])\n",
    "          \n",
    "    # distance is sqrt of ( sq of 1st element + sq of 2nd element + sq of 3rd element ...)\n",
    "    total_squares = np.square(np_array_2d)\n",
    "    sumofsquares = total_squares.sum(axis=1)\n",
    "\n",
    "    print(\"sum of the squares of each row is\")\n",
    "    print(sumofsquares)\n",
    "\n",
    "    sqrt_sumofsquares = np.sqrt(sumofsquares)\n",
    "    print(\"the Euclidean norm is\")\n",
    "    print(sqrt_sumofsquares)\n",
    "    \n",
    "     \n",
    "euclidean_norm(15,3,5)    "
   ]
  },
  {
   "cell_type": "code",
   "execution_count": null,
   "metadata": {},
   "outputs": [],
   "source": [
    "# these are all practice runs, please ignore it !!\n",
    "\n",
    "np_array_2d = np.arange(15).reshape([3,5])\n",
    "print(\"array is\")\n",
    "print(np_array_2d)\n",
    "\n",
    "square_root =np.sqrt(np_array_2d)\n",
    "print(\"square root of whole array values are\")\n",
    "print(square_root)\n",
    "\n",
    "total_sum = np.sum(np_array_2d)\n",
    "print(\"total sum of all values in array is\")\n",
    "print(total_sum)\n",
    "\n",
    "# product of rows\n",
    "total_product = np_array_2d.prod(axis=1)\n",
    "print(\"total product of rows are\")\n",
    "print(total_product)\n",
    "\n",
    "# squares of all values in array\n",
    "total_squares = np.square(np_array_2d)\n",
    "print(\"squares of each value of the array is\")\n",
    "print(total_squares)\n",
    "\n",
    "# sum of each rows in the array\n",
    "total_sum = np_array_2d.sum(axis=1)\n",
    "print(\"sum of each rows of the array is\")\n",
    "print(total_sum)\n",
    "\n",
    "\n",
    "# distance is sqrt of ( sq of 1st element + sq of 2nd element + sq of 3rd element ...)\n",
    "total_squares = np.square(np_array_2d)\n",
    "sumofsquares = total_squares.sum(axis=1)\n",
    "\n",
    "print(\"sum of the squares of each row is\")\n",
    "print(sumofsquares)\n",
    "\n",
    "sqrt_sumofsquares = np.sqrt(sumofsquares)\n",
    "print(\"the Euclidean norm is\")\n",
    "print(sqrt_sumofsquares)\n",
    "\n"
   ]
  },
  {
   "cell_type": "markdown",
   "metadata": {},
   "source": [
    "![green-divider](https://user-images.githubusercontent.com/7065401/52071924-c003ad80-2562-11e9-8297-1c6595f8a7ff.png)"
   ]
  },
  {
   "cell_type": "markdown",
   "metadata": {},
   "source": [
    "#### Q13: Write function multiplication_table that gets a positive integer n as parameter. \n",
    "\n",
    "#### The function should return an array with shape (n,n). The element at index (i,j) should be i*j. \n",
    "\n",
    "#### Don’t use for loops! \n",
    "\n",
    "#### In your solution, rely on broadcasting, the np.arange function, reshaping and vectorized operators. Example of usage:\n",
    "\n",
    "print(multiplication_table(4))\n",
    "\n",
    "[[0 0 0 0]\n",
    "\n",
    "[0 1 2 3]\n",
    "\n",
    "[0 2 4 6]\n",
    "\n",
    "[0 3 6 9]]"
   ]
  },
  {
   "cell_type": "markdown",
   "metadata": {},
   "source": [
    "![green-divider](https://user-images.githubusercontent.com/7065401/52071924-c003ad80-2562-11e9-8297-1c6595f8a7ff.png)"
   ]
  },
  {
   "cell_type": "markdown",
   "metadata": {},
   "source": [
    "### This is just Rough Work "
   ]
  },
  {
   "cell_type": "code",
   "execution_count": 134,
   "metadata": {},
   "outputs": [
    {
     "name": "stdout",
     "output_type": "stream",
     "text": [
      "[1 2 3 4 5 6 7 8 9]\n",
      "[1 3 5 7 9]\n"
     ]
    }
   ],
   "source": [
    "# https://realpython.com/lessons/numpy-arange-overview/\n",
    "\n",
    "# numpy.arange([start,]stop, [step,],dtype=None)\n",
    "# numpy.ndarray\n",
    "\n",
    "import numpy as np\n",
    "\n",
    "a = np.arange(start=1, stop=10, step=1)\n",
    "print(a)\n",
    "b = np.arange(1,10,2)\n",
    "print(b)\n",
    "\n",
    "c = np.arange\n",
    "\n",
    "\n",
    "    "
   ]
  },
  {
   "cell_type": "code",
   "execution_count": 163,
   "metadata": {},
   "outputs": [
    {
     "name": "stdout",
     "output_type": "stream",
     "text": [
      "[[0. 0. 0. 0.]\n",
      " [0. 1. 2. 3.]\n",
      " [0. 2. 4. 6.]\n",
      " [0. 3. 6. 9.]]\n"
     ]
    }
   ],
   "source": [
    "mm = 4\n",
    "a = numpy.zeros(shape=(mm,mm))\n",
    "\n",
    "i = 1\n",
    "while i < 4:\n",
    "    a[i] = a[i-1] + [0,1,2,3]\n",
    "    if i == (mm-1):\n",
    "        break\n",
    "    i += 1\n",
    "    \n",
    "print(a)\n"
   ]
  },
  {
   "cell_type": "code",
   "execution_count": 154,
   "metadata": {},
   "outputs": [
    {
     "name": "stdout",
     "output_type": "stream",
     "text": [
      "[[ 0  1  2  3  4  5  6]\n",
      " [ 7  8  9 10 11 12 13]\n",
      " [14 15 16 17 18 19 20]\n",
      " [21 22 23 24 25 26 27]\n",
      " [28 29 30 31 32 33 34]\n",
      " [35 36 37 38 39 40 41]\n",
      " [42 43 44 45 46 47 48]]\n"
     ]
    }
   ],
   "source": [
    "j = 7\n",
    "y = np.arange(j**2).reshape(j,j)\n",
    "\n",
    "\n",
    "print(y)\n",
    "\n"
   ]
  },
  {
   "cell_type": "code",
   "execution_count": 158,
   "metadata": {},
   "outputs": [
    {
     "name": "stdout",
     "output_type": "stream",
     "text": [
      "[[ 1  1  2  3  4  5  6]\n",
      " [ 1  8  9 10 11 12 13]\n",
      " [ 1 15 16 17 18 19 20]\n",
      " [ 1 22 23 24 25 26 27]\n",
      " [ 1 29 30 31 32 33 34]\n",
      " [ 1 36 37 38 39 40 41]\n",
      " [ 1 43 44 45 46 47 48]]\n"
     ]
    }
   ],
   "source": [
    "y[:, 0] =  1\n",
    "print(y)"
   ]
  },
  {
   "cell_type": "code",
   "execution_count": 177,
   "metadata": {},
   "outputs": [
    {
     "data": {
      "text/plain": [
       "array([[0],\n",
       "       [1],\n",
       "       [2],\n",
       "       [3],\n",
       "       [4],\n",
       "       [5]])"
      ]
     },
     "execution_count": 177,
     "metadata": {},
     "output_type": "execute_result"
    }
   ],
   "source": [
    "np.arange(6).reshape(-1,1)"
   ]
  },
  {
   "cell_type": "code",
   "execution_count": 190,
   "metadata": {},
   "outputs": [
    {
     "data": {
      "text/plain": [
       "array([[0., 0., 0., 0., 0., 0.]])"
      ]
     },
     "execution_count": 190,
     "metadata": {},
     "output_type": "execute_result"
    }
   ],
   "source": [
    "np.zeros((1,6))"
   ]
  },
  {
   "cell_type": "code",
   "execution_count": 191,
   "metadata": {},
   "outputs": [
    {
     "name": "stdout",
     "output_type": "stream",
     "text": [
      "[[0. 0. 0. 0. 0. 0.]\n",
      " [1. 1. 1. 1. 1. 1.]\n",
      " [2. 2. 2. 2. 2. 2.]\n",
      " [3. 3. 3. 3. 3. 3.]\n",
      " [4. 4. 4. 4. 4. 4.]\n",
      " [5. 5. 5. 5. 5. 5.]]\n"
     ]
    }
   ],
   "source": [
    "\n",
    "bbb = np.arange(6).reshape(-1,1) + np.zeros((1,6))\n",
    "#ccc = bbb + np.zeros((6,1))\n",
    "\n",
    "print(bbb)\n",
    "#print(ccc)\n"
   ]
  },
  {
   "cell_type": "code",
   "execution_count": 171,
   "metadata": {},
   "outputs": [
    {
     "data": {
      "text/plain": [
       "array([[  1,   2,   3,   4,   5,   6,   7,   8,   9,  10,  11,  12],\n",
       "       [  2,   4,   6,   8,  10,  12,  14,  16,  18,  20,  22,  24],\n",
       "       [  3,   6,   9,  12,  15,  18,  21,  24,  27,  30,  33,  36],\n",
       "       [  4,   8,  12,  16,  20,  24,  28,  32,  36,  40,  44,  48],\n",
       "       [  5,  10,  15,  20,  25,  30,  35,  40,  45,  50,  55,  60],\n",
       "       [  6,  12,  18,  24,  30,  36,  42,  48,  54,  60,  66,  72],\n",
       "       [  7,  14,  21,  28,  35,  42,  49,  56,  63,  70,  77,  84],\n",
       "       [  8,  16,  24,  32,  40,  48,  56,  64,  72,  80,  88,  96],\n",
       "       [  9,  18,  27,  36,  45,  54,  63,  72,  81,  90,  99, 108],\n",
       "       [ 10,  20,  30,  40,  50,  60,  70,  80,  90, 100, 110, 120],\n",
       "       [ 11,  22,  33,  44,  55,  66,  77,  88,  99, 110, 121, 132],\n",
       "       [ 12,  24,  36,  48,  60,  72,  84,  96, 108, 120, 132, 144]])"
      ]
     },
     "execution_count": 171,
     "metadata": {},
     "output_type": "execute_result"
    }
   ],
   "source": [
    "np.arange(1,13).reshape(-1,1) * np.arange(1,13)\n"
   ]
  },
  {
   "cell_type": "code",
   "execution_count": 196,
   "metadata": {},
   "outputs": [
    {
     "data": {
      "text/plain": [
       "array([ 1,  2,  3,  4,  5,  6,  7,  8,  9, 10, 11, 12])"
      ]
     },
     "execution_count": 196,
     "metadata": {},
     "output_type": "execute_result"
    }
   ],
   "source": [
    "np.arange(1,13)"
   ]
  },
  {
   "cell_type": "code",
   "execution_count": 194,
   "metadata": {},
   "outputs": [
    {
     "data": {
      "text/plain": [
       "array([ 1,  2,  3,  4,  5,  6,  7,  8,  9, 10, 11, 12])"
      ]
     },
     "execution_count": 194,
     "metadata": {},
     "output_type": "execute_result"
    }
   ],
   "source": [
    "np.arange(1,13)"
   ]
  },
  {
   "cell_type": "code",
   "execution_count": 203,
   "metadata": {},
   "outputs": [
    {
     "name": "stdout",
     "output_type": "stream",
     "text": [
      "[[0. 0. 0. 0.]\n",
      " [0. 0. 0. 0.]\n",
      " [0. 0. 0. 0.]\n",
      " [0. 0. 0. 0.]]\n"
     ]
    }
   ],
   "source": [
    "abc=np.zeros((1,4)) + np.zeros((4,1))\n",
    "\n",
    "print(abc)\n"
   ]
  },
  {
   "cell_type": "code",
   "execution_count": 209,
   "metadata": {},
   "outputs": [
    {
     "name": "stdout",
     "output_type": "stream",
     "text": [
      "[0 1 2 3]\n"
     ]
    }
   ],
   "source": [
    "x = np.arange(0,4,1)\n",
    "print(x)"
   ]
  },
  {
   "cell_type": "code",
   "execution_count": 212,
   "metadata": {},
   "outputs": [
    {
     "name": "stdout",
     "output_type": "stream",
     "text": [
      "[[0. 0. 0. 0.]\n",
      " [0. 0. 0. 0.]\n",
      " [0. 0. 0. 0.]\n",
      " [0. 0. 0. 0.]]\n"
     ]
    }
   ],
   "source": [
    "y = x * abc\n",
    "print(y)"
   ]
  },
  {
   "cell_type": "markdown",
   "metadata": {},
   "source": [
    "![green-divider](https://user-images.githubusercontent.com/7065401/52071924-c003ad80-2562-11e9-8297-1c6595f8a7ff.png)"
   ]
  },
  {
   "cell_type": "markdown",
   "metadata": {},
   "source": [
    "#### Answer starts from here :-"
   ]
  },
  {
   "cell_type": "code",
   "execution_count": 225,
   "metadata": {},
   "outputs": [
    {
     "name": "stdout",
     "output_type": "stream",
     "text": [
      "[[0. 0. 0. 0.]\n",
      " [1. 1. 1. 1.]\n",
      " [2. 2. 2. 2.]\n",
      " [3. 3. 3. 3.]]\n"
     ]
    }
   ],
   "source": [
    "allrows = np.arange(4).reshape(-1,1) + np.zeros((1,4))\n",
    "\n",
    "print(allrows)"
   ]
  },
  {
   "cell_type": "code",
   "execution_count": 221,
   "metadata": {},
   "outputs": [
    {
     "name": "stdout",
     "output_type": "stream",
     "text": [
      "[[0. 1. 2. 3.]\n",
      " [0. 1. 2. 3.]\n",
      " [0. 1. 2. 3.]\n",
      " [0. 1. 2. 3.]]\n"
     ]
    }
   ],
   "source": [
    "allcol = np.arange(4) + np.zeros((4,1))\n",
    "\n",
    "print(allcol)"
   ]
  },
  {
   "cell_type": "code",
   "execution_count": 223,
   "metadata": {},
   "outputs": [
    {
     "name": "stdout",
     "output_type": "stream",
     "text": [
      "[[0. 0. 0. 0.]\n",
      " [0. 1. 2. 3.]\n",
      " [0. 2. 4. 6.]\n",
      " [0. 3. 6. 9.]]\n"
     ]
    }
   ],
   "source": [
    "final = allrows * allcol\n",
    "\n",
    "print(final)"
   ]
  },
  {
   "cell_type": "code",
   "execution_count": 224,
   "metadata": {},
   "outputs": [
    {
     "data": {
      "text/plain": [
       "array([[0., 0., 0., 0.],\n",
       "       [0., 1., 2., 3.],\n",
       "       [0., 2., 4., 6.],\n",
       "       [0., 3., 6., 9.]])"
      ]
     },
     "execution_count": 224,
     "metadata": {},
     "output_type": "execute_result"
    }
   ],
   "source": [
    "\n",
    "def multiplication_table(some):\n",
    "    allrows = np.arange(some).reshape(-1,1) + np.zeros((1,some))\n",
    "    allcol = np.arange(some) + np.zeros((some,1))\n",
    "    final = allrows * allcol\n",
    "    \n",
    "    return final\n",
    "\n",
    "multiplication_table(4)\n",
    "\n",
    "    \n"
   ]
  },
  {
   "cell_type": "code",
   "execution_count": null,
   "metadata": {},
   "outputs": [],
   "source": []
  },
  {
   "cell_type": "code",
   "execution_count": null,
   "metadata": {},
   "outputs": [],
   "source": []
  },
  {
   "cell_type": "code",
   "execution_count": null,
   "metadata": {},
   "outputs": [],
   "source": []
  },
  {
   "cell_type": "markdown",
   "metadata": {},
   "source": [
    "![green-divider](https://user-images.githubusercontent.com/7065401/52071924-c003ad80-2562-11e9-8297-1c6595f8a7ff.png)"
   ]
  },
  {
   "cell_type": "markdown",
   "metadata": {},
   "source": [
    "#### Q14: Load the iris dataset, https://gist.github.com/netj/8836201, using pd.read_csv(). The four columns of the returned array correspond to\n",
    "\n",
    "sepal length (cm)\n",
    "\n",
    "sepal width (cm)\n",
    "\n",
    "petal length (cm)\n",
    "\n",
    "petal width (cm)\n",
    "\n",
    "#### Part 1. What is the Pearson correlation between the variables sepal length and petal length. Compute this using the scipy.stats.pearsonr function. It returns a \ttuple whose first element is the correlation. Write a function lengths that loads the data and returns the correlation.\n",
    "\n",
    "#### Part 2. What are the correlations between all the variables. Write a function correlations that returns an array of shape (4,4) containing the correlations. Use \tthe function np.corrcoef. Which pair of variables is the most highly correlated?\n",
    "\n",
    "Note the input formats of both functions pearsonr and corrcoef.\n"
   ]
  },
  {
   "cell_type": "code",
   "execution_count": 2,
   "metadata": {},
   "outputs": [],
   "source": [
    "df_i = pd.read_csv (r'D:\\jupyter\\python_competition\\questions\\iris.csv')"
   ]
  },
  {
   "cell_type": "code",
   "execution_count": 7,
   "metadata": {},
   "outputs": [
    {
     "data": {
      "text/plain": [
       "array(['Setosa', 'Versicolor', 'Virginica'], dtype=object)"
      ]
     },
     "execution_count": 7,
     "metadata": {},
     "output_type": "execute_result"
    }
   ],
   "source": [
    "# to see how many unique variety are there\n",
    "df_i.variety.unique()\n"
   ]
  },
  {
   "cell_type": "code",
   "execution_count": 17,
   "metadata": {},
   "outputs": [
    {
     "data": {
      "text/html": [
       "<div>\n",
       "<style scoped>\n",
       "    .dataframe tbody tr th:only-of-type {\n",
       "        vertical-align: middle;\n",
       "    }\n",
       "\n",
       "    .dataframe tbody tr th {\n",
       "        vertical-align: top;\n",
       "    }\n",
       "\n",
       "    .dataframe thead th {\n",
       "        text-align: right;\n",
       "    }\n",
       "</style>\n",
       "<table border=\"1\" class=\"dataframe\">\n",
       "  <thead>\n",
       "    <tr style=\"text-align: right;\">\n",
       "      <th></th>\n",
       "      <th>sepal.length</th>\n",
       "      <th>petal.length</th>\n",
       "    </tr>\n",
       "  </thead>\n",
       "  <tbody>\n",
       "    <tr>\n",
       "      <th>0</th>\n",
       "      <td>5.1</td>\n",
       "      <td>1.4</td>\n",
       "    </tr>\n",
       "    <tr>\n",
       "      <th>1</th>\n",
       "      <td>4.9</td>\n",
       "      <td>1.4</td>\n",
       "    </tr>\n",
       "    <tr>\n",
       "      <th>2</th>\n",
       "      <td>4.7</td>\n",
       "      <td>1.3</td>\n",
       "    </tr>\n",
       "    <tr>\n",
       "      <th>3</th>\n",
       "      <td>4.6</td>\n",
       "      <td>1.5</td>\n",
       "    </tr>\n",
       "    <tr>\n",
       "      <th>4</th>\n",
       "      <td>5.0</td>\n",
       "      <td>1.4</td>\n",
       "    </tr>\n",
       "  </tbody>\n",
       "</table>\n",
       "</div>"
      ],
      "text/plain": [
       "   sepal.length  petal.length\n",
       "0           5.1           1.4\n",
       "1           4.9           1.4\n",
       "2           4.7           1.3\n",
       "3           4.6           1.5\n",
       "4           5.0           1.4"
      ]
     },
     "execution_count": 17,
     "metadata": {},
     "output_type": "execute_result"
    }
   ],
   "source": [
    "# create a new dataframe with two columns and drop missing values\n",
    "\n",
    "new_df_i = df_i[['sepal.length','petal.length']].dropna()\n",
    "\n",
    "new_df_i.head()\n"
   ]
  },
  {
   "cell_type": "markdown",
   "metadata": {},
   "source": [
    "--------------------------------------------------------------------------------------------------------------------------------\n",
    "##### As a rule of thumb sizes from Rea and Parker (2014):\n",
    "\n",
    "|\\|r\\|| Interpretation|\n",
    "|-------|---------------|\n",
    "|0.00 < 0.10| Negligible|\n",
    "|0.10 < 0.20 |Weak|\n",
    "|0.20 < 0.40| Moderate|\n",
    "|0.40 < 0.60| Relatively strong|\n",
    "|0.60 < 0.80| Strong|\n",
    "|0.80 <= 1.00| Very strong|\n",
    "\n"
   ]
  },
  {
   "cell_type": "code",
   "execution_count": 18,
   "metadata": {},
   "outputs": [
    {
     "data": {
      "text/html": [
       "<div>\n",
       "<style scoped>\n",
       "    .dataframe tbody tr th:only-of-type {\n",
       "        vertical-align: middle;\n",
       "    }\n",
       "\n",
       "    .dataframe tbody tr th {\n",
       "        vertical-align: top;\n",
       "    }\n",
       "\n",
       "    .dataframe thead th {\n",
       "        text-align: right;\n",
       "    }\n",
       "</style>\n",
       "<table border=\"1\" class=\"dataframe\">\n",
       "  <thead>\n",
       "    <tr style=\"text-align: right;\">\n",
       "      <th></th>\n",
       "      <th>sepal.length</th>\n",
       "      <th>petal.length</th>\n",
       "    </tr>\n",
       "  </thead>\n",
       "  <tbody>\n",
       "    <tr>\n",
       "      <th>sepal.length</th>\n",
       "      <td>1.000000</td>\n",
       "      <td>0.871754</td>\n",
       "    </tr>\n",
       "    <tr>\n",
       "      <th>petal.length</th>\n",
       "      <td>0.871754</td>\n",
       "      <td>1.000000</td>\n",
       "    </tr>\n",
       "  </tbody>\n",
       "</table>\n",
       "</div>"
      ],
      "text/plain": [
       "              sepal.length  petal.length\n",
       "sepal.length      1.000000      0.871754\n",
       "petal.length      0.871754      1.000000"
      ]
     },
     "execution_count": 18,
     "metadata": {},
     "output_type": "execute_result"
    }
   ],
   "source": [
    "# using pandas corelation coefficient function to see the correlation\n",
    "\n",
    "new_df_i.corr()\n"
   ]
  },
  {
   "cell_type": "code",
   "execution_count": 36,
   "metadata": {},
   "outputs": [],
   "source": [
    "from scipy.stats import pearsonr"
   ]
  },
  {
   "cell_type": "code",
   "execution_count": 24,
   "metadata": {},
   "outputs": [
    {
     "data": {
      "text/plain": [
       "(0.8717537758865832, 1.0386674194497525e-47)"
      ]
     },
     "execution_count": 24,
     "metadata": {},
     "output_type": "execute_result"
    }
   ],
   "source": [
    "\n",
    "pearsonr(new_df_i['sepal.length'],new_df_i['petal.length'])"
   ]
  },
  {
   "cell_type": "markdown",
   "metadata": {},
   "source": [
    "The first value is the correlation coefficient and the second is p value (significance)"
   ]
  },
  {
   "cell_type": "markdown",
   "metadata": {},
   "source": [
    "#### Part 2. What are the correlations between all the variables. Write a function correlations that returns an array of shape (4,4) containing the correlations. Use \tthe function np.corrcoef. Which pair of variables is the most highly correlated?\n"
   ]
  },
  {
   "cell_type": "code",
   "execution_count": 31,
   "metadata": {},
   "outputs": [],
   "source": [
    "array_sepal_l = np.array(df_i['sepal.length'])\n",
    "array_sepal_w = np.array(df_i['sepal.width'])\n",
    "array_petal_l = np.array(df_i['petal.length'])\n",
    "array_petal_w = np.array(df_i['petal.width'])"
   ]
  },
  {
   "cell_type": "code",
   "execution_count": 32,
   "metadata": {},
   "outputs": [
    {
     "data": {
      "text/html": [
       "<div>\n",
       "<style scoped>\n",
       "    .dataframe tbody tr th:only-of-type {\n",
       "        vertical-align: middle;\n",
       "    }\n",
       "\n",
       "    .dataframe tbody tr th {\n",
       "        vertical-align: top;\n",
       "    }\n",
       "\n",
       "    .dataframe thead th {\n",
       "        text-align: right;\n",
       "    }\n",
       "</style>\n",
       "<table border=\"1\" class=\"dataframe\">\n",
       "  <thead>\n",
       "    <tr style=\"text-align: right;\">\n",
       "      <th></th>\n",
       "      <th>sepal.length</th>\n",
       "      <th>sepal.width</th>\n",
       "      <th>petal.length</th>\n",
       "      <th>petal.width</th>\n",
       "    </tr>\n",
       "  </thead>\n",
       "  <tbody>\n",
       "    <tr>\n",
       "      <th>sepal.length</th>\n",
       "      <td>1.000000</td>\n",
       "      <td>-0.117570</td>\n",
       "      <td>0.871754</td>\n",
       "      <td>0.817941</td>\n",
       "    </tr>\n",
       "    <tr>\n",
       "      <th>sepal.width</th>\n",
       "      <td>-0.117570</td>\n",
       "      <td>1.000000</td>\n",
       "      <td>-0.428440</td>\n",
       "      <td>-0.366126</td>\n",
       "    </tr>\n",
       "    <tr>\n",
       "      <th>petal.length</th>\n",
       "      <td>0.871754</td>\n",
       "      <td>-0.428440</td>\n",
       "      <td>1.000000</td>\n",
       "      <td>0.962865</td>\n",
       "    </tr>\n",
       "    <tr>\n",
       "      <th>petal.width</th>\n",
       "      <td>0.817941</td>\n",
       "      <td>-0.366126</td>\n",
       "      <td>0.962865</td>\n",
       "      <td>1.000000</td>\n",
       "    </tr>\n",
       "  </tbody>\n",
       "</table>\n",
       "</div>"
      ],
      "text/plain": [
       "              sepal.length  sepal.width  petal.length  petal.width\n",
       "sepal.length      1.000000    -0.117570      0.871754     0.817941\n",
       "sepal.width      -0.117570     1.000000     -0.428440    -0.366126\n",
       "petal.length      0.871754    -0.428440      1.000000     0.962865\n",
       "petal.width       0.817941    -0.366126      0.962865     1.000000"
      ]
     },
     "execution_count": 32,
     "metadata": {},
     "output_type": "execute_result"
    }
   ],
   "source": [
    "df_i.corr()"
   ]
  },
  {
   "cell_type": "code",
   "execution_count": 33,
   "metadata": {},
   "outputs": [
    {
     "data": {
      "text/plain": [
       "array([[1.        , 0.87175378],\n",
       "       [0.87175378, 1.        ]])"
      ]
     },
     "execution_count": 33,
     "metadata": {},
     "output_type": "execute_result"
    }
   ],
   "source": [
    "np.corrcoef(array_petal_l, array_sepal_l)"
   ]
  },
  {
   "cell_type": "code",
   "execution_count": 34,
   "metadata": {},
   "outputs": [
    {
     "data": {
      "text/plain": [
       "array([[1.        , 0.96286543],\n",
       "       [0.96286543, 1.        ]])"
      ]
     },
     "execution_count": 34,
     "metadata": {},
     "output_type": "execute_result"
    }
   ],
   "source": [
    "np.corrcoef(array_petal_w, array_petal_l)"
   ]
  },
  {
   "cell_type": "markdown",
   "metadata": {},
   "source": [
    "##### Ans: There is a strong correlation of 0.87 between petal length and sepal length. There is also a strong correlation of 0.96 between petal width and petal length "
   ]
  },
  {
   "cell_type": "code",
   "execution_count": null,
   "metadata": {},
   "outputs": [],
   "source": []
  },
  {
   "cell_type": "code",
   "execution_count": null,
   "metadata": {},
   "outputs": [],
   "source": []
  },
  {
   "cell_type": "markdown",
   "metadata": {},
   "source": [
    "![green-divider](https://user-images.githubusercontent.com/7065401/52071924-c003ad80-2562-11e9-8297-1c6595f8a7ff.png)"
   ]
  },
  {
   "cell_type": "markdown",
   "metadata": {},
   "source": [
    "#### Q15: Make function powers_of_series that takes a Series and a positive integer k as parameters and returns a DataFrame. \n",
    "\n",
    "#### The resulting DataFrame should have the same index as the input Series. \n",
    "\n",
    "#### The first column of the dataFrame should be the input Series, \n",
    "#### The second column should contain the Series raised to power of two. \n",
    "#### The third column should contain the Series raised to the power of three, and so on until (and including) power of k. The columns should have indices from 1 to k.\n",
    "\n",
    "#### The values should be numbers, but the index can have any type. \n",
    "\n",
    "#### Test your function from the main function. Example of usage:\n",
    "\n",
    "\ts = pd.Series([1,2,3,4], index=list(\"abcd\"))\n",
    "    \n",
    "\tprint(powers_of_series(s, 3))\n",
    "    \n",
    "\tShould print:\n",
    "    \n",
    "\t   1   2   3\n",
    "\ta  1   1   1\n",
    "\tb  2   4   8\n",
    "\tc  3   9  27\n"
   ]
  },
  {
   "cell_type": "code",
   "execution_count": 99,
   "metadata": {},
   "outputs": [
    {
     "name": "stdout",
     "output_type": "stream",
     "text": [
      "a    1\n",
      "b    2\n",
      "c    3\n",
      "d    4\n",
      "dtype: int64\n"
     ]
    }
   ],
   "source": [
    "import pandas as pd\n",
    "\n",
    "s = pd.Series([1,2,3,4], index = list(\"abcd\"))\n",
    "\n",
    "print(s)"
   ]
  },
  {
   "cell_type": "code",
   "execution_count": 123,
   "metadata": {},
   "outputs": [
    {
     "data": {
      "text/html": [
       "<div>\n",
       "<style scoped>\n",
       "    .dataframe tbody tr th:only-of-type {\n",
       "        vertical-align: middle;\n",
       "    }\n",
       "\n",
       "    .dataframe tbody tr th {\n",
       "        vertical-align: top;\n",
       "    }\n",
       "\n",
       "    .dataframe thead th {\n",
       "        text-align: right;\n",
       "    }\n",
       "</style>\n",
       "<table border=\"1\" class=\"dataframe\">\n",
       "  <thead>\n",
       "    <tr style=\"text-align: right;\">\n",
       "      <th></th>\n",
       "      <th>1</th>\n",
       "    </tr>\n",
       "  </thead>\n",
       "  <tbody>\n",
       "    <tr>\n",
       "      <th>a</th>\n",
       "      <td>1</td>\n",
       "    </tr>\n",
       "    <tr>\n",
       "      <th>b</th>\n",
       "      <td>2</td>\n",
       "    </tr>\n",
       "    <tr>\n",
       "      <th>c</th>\n",
       "      <td>3</td>\n",
       "    </tr>\n",
       "    <tr>\n",
       "      <th>d</th>\n",
       "      <td>4</td>\n",
       "    </tr>\n",
       "  </tbody>\n",
       "</table>\n",
       "</div>"
      ],
      "text/plain": [
       "   1\n",
       "a  1\n",
       "b  2\n",
       "c  3\n",
       "d  4"
      ]
     },
     "execution_count": 123,
     "metadata": {},
     "output_type": "execute_result"
    }
   ],
   "source": [
    "df_s = s.to_frame('1')\n",
    "df_s"
   ]
  },
  {
   "cell_type": "code",
   "execution_count": 122,
   "metadata": {},
   "outputs": [
    {
     "data": {
      "text/html": [
       "<div>\n",
       "<style scoped>\n",
       "    .dataframe tbody tr th:only-of-type {\n",
       "        vertical-align: middle;\n",
       "    }\n",
       "\n",
       "    .dataframe tbody tr th {\n",
       "        vertical-align: top;\n",
       "    }\n",
       "\n",
       "    .dataframe thead th {\n",
       "        text-align: right;\n",
       "    }\n",
       "</style>\n",
       "<table border=\"1\" class=\"dataframe\">\n",
       "  <thead>\n",
       "    <tr style=\"text-align: right;\">\n",
       "      <th></th>\n",
       "      <th>1</th>\n",
       "      <th>2</th>\n",
       "      <th>3</th>\n",
       "    </tr>\n",
       "  </thead>\n",
       "  <tbody>\n",
       "    <tr>\n",
       "      <th>a</th>\n",
       "      <td>1</td>\n",
       "      <td>1</td>\n",
       "      <td>1</td>\n",
       "    </tr>\n",
       "    <tr>\n",
       "      <th>b</th>\n",
       "      <td>2</td>\n",
       "      <td>4</td>\n",
       "      <td>8</td>\n",
       "    </tr>\n",
       "    <tr>\n",
       "      <th>c</th>\n",
       "      <td>3</td>\n",
       "      <td>9</td>\n",
       "      <td>27</td>\n",
       "    </tr>\n",
       "    <tr>\n",
       "      <th>d</th>\n",
       "      <td>4</td>\n",
       "      <td>16</td>\n",
       "      <td>64</td>\n",
       "    </tr>\n",
       "  </tbody>\n",
       "</table>\n",
       "</div>"
      ],
      "text/plain": [
       "   1   2   3\n",
       "a  1   1   1\n",
       "b  2   4   8\n",
       "c  3   9  27\n",
       "d  4  16  64"
      ]
     },
     "execution_count": 122,
     "metadata": {},
     "output_type": "execute_result"
    }
   ],
   "source": [
    "df_s['2'] = df_s['1'] ** 2\n",
    "df_s['3'] = df_s['1'] ** 3\n",
    "\n",
    "df_s"
   ]
  },
  {
   "cell_type": "code",
   "execution_count": 127,
   "metadata": {},
   "outputs": [
    {
     "name": "stdout",
     "output_type": "stream",
     "text": [
      "   1   2   3    4\n",
      "a  1   1   1    1\n",
      "b  2   4   8   16\n",
      "c  3   9  27   81\n",
      "d  4  16  64  256\n"
     ]
    }
   ],
   "source": [
    "import pandas as pd\n",
    "\n",
    "def powerseries(t,j):\n",
    "    df_try = t.to_frame('1')\n",
    "    \n",
    "    #j = 5\n",
    "\n",
    "    for i in range(2,j):\n",
    "        df_try[i] = df_try['1'] ** i\n",
    "    \n",
    "    return df_try\n",
    "    \n",
    "t = pd.Series([1,2,3,4], index=list(\"abcd\"))\n",
    "print(powerseries(t,5))\n"
   ]
  },
  {
   "cell_type": "code",
   "execution_count": null,
   "metadata": {},
   "outputs": [],
   "source": []
  },
  {
   "cell_type": "code",
   "execution_count": null,
   "metadata": {},
   "outputs": [],
   "source": []
  },
  {
   "cell_type": "markdown",
   "metadata": {},
   "source": [
    "![green-divider](https://user-images.githubusercontent.com/7065401/52071924-c003ad80-2562-11e9-8297-1c6595f8a7ff.png)"
   ]
  },
  {
   "cell_type": "markdown",
   "metadata": {},
   "source": [
    "## THE END OF PART 1"
   ]
  }
 ],
 "metadata": {
  "kernelspec": {
   "display_name": "Python 3",
   "language": "python",
   "name": "python3"
  },
  "language_info": {
   "codemirror_mode": {
    "name": "ipython",
    "version": 3
   },
   "file_extension": ".py",
   "mimetype": "text/x-python",
   "name": "python",
   "nbconvert_exporter": "python",
   "pygments_lexer": "ipython3",
   "version": "3.8.3"
  }
 },
 "nbformat": 4,
 "nbformat_minor": 4
}
